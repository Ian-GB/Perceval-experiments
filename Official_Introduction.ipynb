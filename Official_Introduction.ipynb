{
 "cells": [
  {
   "cell_type": "markdown",
   "id": "5ede8454",
   "metadata": {},
   "source": [
    "# Primo notebook di test con Perceval by Quandela"
   ]
  },
  {
   "cell_type": "markdown",
   "id": "2ded8af0",
   "metadata": {},
   "source": [
    "Proviamo a implementare delle misure studiate nel corso di AQM francese: esperimento di interferenza con due _beam splitters_, e dopo vediamo se, diõcristõ, funziona."
   ]
  },
  {
   "cell_type": "markdown",
   "id": "b69f60b5",
   "metadata": {},
   "source": [
    "## Installazione e importazione"
   ]
  },
  {
   "cell_type": "markdown",
   "id": "079b9ab0",
   "metadata": {},
   "source": [
    "Provo a seguire le istruzioni su https://perceval.quandela.net/docs/usage.html?highlight=install, anche se mi danno già problemi."
   ]
  },
  {
   "cell_type": "markdown",
   "id": "bf3ad0fe",
   "metadata": {},
   "source": [
    "Dopo aver creato un ambiente virtuale in Conda ed averlo attivato, eseguiamo il comando:"
   ]
  },
  {
   "cell_type": "code",
   "execution_count": 1,
   "id": "1a27a544",
   "metadata": {
    "collapsed": true
   },
   "outputs": [
    {
     "name": "stdout",
     "output_type": "stream",
     "text": [
      "Requirement already satisfied: perceval-quandela in c:\\users\\igi98\\miniconda3\\envs\\perceval\\lib\\site-packages (0.6.2)\n",
      "Requirement already satisfied: scipy in c:\\users\\igi98\\miniconda3\\envs\\perceval\\lib\\site-packages (from perceval-quandela) (1.9.2)\n",
      "Requirement already satisfied: matplotlib in c:\\users\\igi98\\miniconda3\\envs\\perceval\\lib\\site-packages (from perceval-quandela) (3.5.2)\n",
      "Requirement already satisfied: tabulate in c:\\users\\igi98\\miniconda3\\envs\\perceval\\lib\\site-packages (from perceval-quandela) (0.9.0)\n",
      "Requirement already satisfied: quandelibc>=0.5.3 in c:\\users\\igi98\\miniconda3\\envs\\perceval\\lib\\site-packages (from perceval-quandela) (0.5.3)\n",
      "Requirement already satisfied: numpy in c:\\users\\igi98\\miniconda3\\envs\\perceval\\lib\\site-packages (from perceval-quandela) (1.23.1)\n",
      "Requirement already satisfied: sympy in c:\\users\\igi98\\miniconda3\\envs\\perceval\\lib\\site-packages (from perceval-quandela) (1.11.1)\n",
      "Requirement already satisfied: cycler>=0.10 in c:\\users\\igi98\\miniconda3\\envs\\perceval\\lib\\site-packages (from matplotlib->perceval-quandela) (0.11.0)\n",
      "Requirement already satisfied: kiwisolver>=1.0.1 in c:\\users\\igi98\\miniconda3\\envs\\perceval\\lib\\site-packages (from matplotlib->perceval-quandela) (1.4.2)\n",
      "Requirement already satisfied: pillow>=6.2.0 in c:\\users\\igi98\\miniconda3\\envs\\perceval\\lib\\site-packages (from matplotlib->perceval-quandela) (9.2.0)\n",
      "Requirement already satisfied: python-dateutil>=2.7 in c:\\users\\igi98\\miniconda3\\envs\\perceval\\lib\\site-packages (from matplotlib->perceval-quandela) (2.8.2)\n",
      "Requirement already satisfied: pyparsing>=2.2.1 in c:\\users\\igi98\\miniconda3\\envs\\perceval\\lib\\site-packages (from matplotlib->perceval-quandela) (3.0.9)\n",
      "Requirement already satisfied: packaging>=20.0 in c:\\users\\igi98\\miniconda3\\envs\\perceval\\lib\\site-packages (from matplotlib->perceval-quandela) (21.3)\n",
      "Requirement already satisfied: fonttools>=4.22.0 in c:\\users\\igi98\\miniconda3\\envs\\perceval\\lib\\site-packages (from matplotlib->perceval-quandela) (4.25.0)\n",
      "Requirement already satisfied: mpmath>=0.19 in c:\\users\\igi98\\miniconda3\\envs\\perceval\\lib\\site-packages (from sympy->perceval-quandela) (1.2.1)\n",
      "Requirement already satisfied: six>=1.5 in c:\\users\\igi98\\miniconda3\\envs\\perceval\\lib\\site-packages (from python-dateutil>=2.7->matplotlib->perceval-quandela) (1.16.0)\n"
     ]
    }
   ],
   "source": [
    "!pip3 install perceval-quandela"
   ]
  },
  {
   "cell_type": "code",
   "execution_count": 128,
   "id": "344a26ad",
   "metadata": {},
   "outputs": [],
   "source": [
    "import perceval as pcvl\n",
    "import perceval.lib.phys as phys\n",
    "import perceval.lib.symb as symb\n",
    "from math import sqrt\n",
    "import sympy as sp"
   ]
  },
  {
   "cell_type": "markdown",
   "id": "c637ba71",
   "metadata": {},
   "source": [
    "Nota: la pagina di documentazione https://perceval.quandela.net/docs/circuits.html riporta che:\n",
    "\n",
    "- *`symb` provides circuits with generally less parameters. This is useful to build generic optical circuits which implement quantum circuits, and perform symbolic computation.*\n",
    "\n",
    "- `phys` *provides circuits with more parameters, which allow a sharper modelisation of the components in a physical experiment.*\n"
   ]
  },
  {
   "cell_type": "markdown",
   "id": "1ca9ae9a",
   "metadata": {},
   "source": [
    "## Breve introduzione su stati e operatori"
   ]
  },
  {
   "cell_type": "markdown",
   "id": "c5467941",
   "metadata": {},
   "source": [
    "### 1. Stati e gradi di libertà\n",
    "In Perceval in un circuito la prima cosa che si nota è la rappresentazione di quelli che potremmo chiamare \"canali\". Essi sono detti *modes* nella documentazione, e penso che effettivamente corrispondano a fasci di fotoni diversi.\n",
    "\n",
    "Un esempio di stato a 4 canali, con 1 fotone nel primo canale, 2 nel secondo e 0 nel terzo e nel quarto, è:"
   ]
  },
  {
   "cell_type": "markdown",
   "id": "2c739220",
   "metadata": {},
   "source": [
    "#### 1.1. Basic State"
   ]
  },
  {
   "cell_type": "code",
   "execution_count": 2,
   "id": "5dd91b19",
   "metadata": {},
   "outputs": [
    {
     "name": "stdout",
     "output_type": "stream",
     "text": [
      "|1,2,0,0> \n",
      "\n",
      "Numero di fotoni totali: 3\n",
      "Numero di 'modes' (canali): 4\n",
      "Numero di fotoni nel secondo canale: 2\n"
     ]
    }
   ],
   "source": [
    "estate = pcvl.BasicState(\"|1,2,0,0>\")\n",
    "print(estate,\"\\n\")\n",
    "print(\"Numero di fotoni totali:\", estate.n)\n",
    "print(\"Numero di 'modes' (canali):\", estate.m)\n",
    "print(\"Numero di fotoni nel secondo canale:\", estate[1])"
   ]
  },
  {
   "cell_type": "markdown",
   "id": "f0cd4f53",
   "metadata": {},
   "source": [
    "Bene, tutto bello. Credo allora che, finché non si agisce su questo stato, la sua espressione matematica possa essere la seguente:\n",
    "$$\\left|\\psi_1\\otimes\\psi_2\\otimes\\psi_2\\right>$$\n",
    "e i due fotoni nel modo 2 (nello stato $\\left|\\psi_2\\right>$) dovrebbero essere indistinguibili, mentre ciò che rende distinguibili fisicamente i modi 1 e 2 potrebbe essere la diversa distribuzione spaziale, se si considera trascurabile la sovrapposizione spaziale fra i pacchetti d'onda corrispondenti ai due stati, per cui effettivamente $\\left<\\psi_1\\middle|\\psi_2\\right>\\approx 0$."
   ]
  },
  {
   "cell_type": "markdown",
   "id": "e950638f",
   "metadata": {},
   "source": [
    "#### 1.2. Annotated Basic State"
   ]
  },
  {
   "cell_type": "markdown",
   "id": "e7bc9be5",
   "metadata": {},
   "source": [
    "Tuttavia, esistono degli altri gradi di libertà che permettono di caratterizzare ulteriormente i fotoni, rendendoli indistinguibili anche quando si trovano nello *stesso* modo. I due gdl standard sono:\n",
    "- `P` credo polarizzazione sul piano perpendicolare alla direzione del fascio, quindi orizzontale, `H`, o verticale, `V` (https://perceval.quandela.net/docs/polarization.html#polarization)\n",
    "- `t` used in time circuit with an integer value is defining the period from where the photon is generated (default 0 meaning that the photon is coming from current period).\n",
    "\n",
    "Gli stati in cui questi gradi di libertà vengono indicati sono detti **Annotated Basic States**\n",
    "\n",
    "For instance the following are representing different BasicStates with 2 photons having polarization annotations (here limited to `H`/`V`:\n",
    "\n",
    "- `|{P:H},{P:V}>` corresponding to an annotated `|1,1>` BasicState.\n",
    "\n",
    "- `|2{P:H},0>` corresponding to an annotated `|2,0>` BasicState where the 2 photons in the first mode are annotated with the same annotation.\n",
    "\n",
    "- `|{P:H}{P:V},0>` corresponding also to an annotated `|2,0>` BasicState where the two photons in the first mode have different annotations.\n",
    "\n",
    "- `|1,{t:-1}>` corresponding to an annotated `|1,1>` BasicState, the degree of freedom being time, with the photon in mode 2 coming from previous period, and the photon in mode 1 is not annotated.\n",
    "\n",
    "Polarizzazioni più generali sono indicate mediante gli angoli $(\\phi,\\theta)$ che caratterizzano il corrispondente vettore di Jones\n",
    "$$\\vec J = \\begin{pmatrix}\\cos\\frac{\\theta}{2}\\\\e^{i\\phi}\\sin\\frac{\\theta}{2}\\end{pmatrix}\\ .$$\n",
    "Gli esempi più di base sono i seguenti (immaginando di aver importato SymPy con il comando `import sympy as sp`, per usare la funzione `sp.pi`):\n",
    "\n",
    "- `|{P:(0,0)}>`, orizzontale, che equivale a `|{P:H}>`\n",
    "- `|{P:(sp.pi,0)}>`, verticale, che equivale a `|{P:V}>`\n",
    "- `|{P:(sp.pi/2,0)}>`, diagonale, che equivale a `|{P:D}>`\n",
    "- `|{P:(sp.pi/2,sp.pi)}>`, anti-diagonale, che equivale a `|{P:A}>`\n",
    "- `|{P:(sp.pi/2,sp.pi/2)}>`, sinistrorsa, che equivale a `|{P:L}>`\n",
    "- `|{P:(sp.pi/2,3*sp.pi/2)}>`, destrorsa, che equivale a `|{P:R}>`\n",
    "\n",
    "Sembra in generale una buona idea rivedersi i vettori di Jones..."
   ]
  },
  {
   "cell_type": "markdown",
   "id": "7a3c18e3",
   "metadata": {},
   "source": [
    "#### 1.3. State Vector"
   ]
  },
  {
   "cell_type": "markdown",
   "id": "cb71ef6c",
   "metadata": {},
   "source": [
    "Possiamo anche costruire sovrapposizioni di *Basic States* (eventualmente *Annotated*), definendo *State Vectors* come avremmo fatto con `[Annotated]BasicState`, ma usando `StateVector` e sommandoli come se niente fosse.\n",
    "\n",
    "Basta sommare gli stati in maniera che i rapporti fra i coefficienti della sovrapposizione siano quelli desiderati. Se la norma risulta diversa da 1, il vettore viene automaticamente rinormalizzato, dividendo tutti i coefficienti per la radice quadrata della norma.\n",
    "\n",
    "Per esempio possiamo costruire uno stato tipo\n",
    "$$\\frac{\\left|\\phi_1\\right>+\\sqrt{2}\\left|\\phi_1\\otimes\\phi_2\\right>}{\\sqrt{3}}$$\n",
    "come segue:"
   ]
  },
  {
   "cell_type": "code",
   "execution_count": 8,
   "id": "f128c1cb",
   "metadata": {},
   "outputs": [
    {
     "name": "stdout",
     "output_type": "stream",
     "text": [
      "sqrt(3)/3*|1,0>+sqrt(6)/3*|1,1>\n"
     ]
    }
   ],
   "source": [
    "single = pcvl.StateVector(\"|1,0>\")\n",
    "double = pcvl.StateVector(\"|1,1>\")\n",
    "total = single + sqrt(2)*double\n",
    "print(total)"
   ]
  },
  {
   "cell_type": "markdown",
   "id": "e24082d2",
   "metadata": {},
   "source": [
    "o, sempre pensando a due canali, anche uno stato tipo\n",
    "$$\\frac{\\left|\\phi_1^H\\otimes\\phi_1^H\\right>+\\sqrt{2}\\left|\\phi_1^H\\otimes\\phi_1^V\\right>}{\\sqrt{3}}\\ ,$$\n",
    "con 2 fotoni nel primo canale e il secondo canale vuoto, ma con polarizzazioni diverse, scrivendo come segue:"
   ]
  },
  {
   "cell_type": "code",
   "execution_count": 10,
   "id": "d01e1bad",
   "metadata": {},
   "outputs": [
    {
     "name": "stdout",
     "output_type": "stream",
     "text": [
      "sqrt(3)/3*|2{P:H},0>+sqrt(6)/3*|{P:H}{P:V},0>\n"
     ]
    }
   ],
   "source": [
    "single = pcvl.StateVector(\"|2{P:H},0>\")\n",
    "double = pcvl.StateVector(\"|{P:H}{P:V},0>\")\n",
    "total = single + sqrt(2)*double\n",
    "print(total)"
   ]
  },
  {
   "cell_type": "markdown",
   "id": "0d02042e",
   "metadata": {},
   "source": [
    "#### 1.4 Miscele statistiche e distribuzioni temporali di stati"
   ]
  },
  {
   "cell_type": "markdown",
   "id": "bcbd9b12",
   "metadata": {},
   "source": [
    "Informazioni su: https://perceval.quandela.net/docs/states.html#state-vector-distribution"
   ]
  },
  {
   "cell_type": "markdown",
   "id": "cd0e1547",
   "metadata": {},
   "source": [
    "## 2. Parte cicciosa"
   ]
  },
  {
   "cell_type": "markdown",
   "id": "6772f474",
   "metadata": {},
   "source": [
    "### 2.1. Circuito inutile ma istruttivo"
   ]
  },
  {
   "cell_type": "markdown",
   "id": "a6b629b3",
   "metadata": {},
   "source": [
    "Importato ciò che ci serve, cominciamo costruendo un semplice circuito con due fasci di fotoni e null'altro, giusto per capire come sono espressi gli stati:"
   ]
  },
  {
   "cell_type": "code",
   "execution_count": 16,
   "id": "aeabcd70",
   "metadata": {},
   "outputs": [
    {
     "data": {
      "text/html": [
       "<svg width='56.000000' height='150.000000' viewBox='-3.000000 0.000000 53.000000 150.000000'><path d=\"M 10 25 L 25 25\" fill=\"none\" stroke=\"darkred\" stroke-width=\"3.000000\" stroke-linejoin=\"miter\"/>\n",
       "<path d=\"M 10 75 L 25 75\" fill=\"none\" stroke=\"darkred\" stroke-width=\"3.000000\" stroke-linejoin=\"miter\"/>\n",
       "<path d=\"M 25 25 L 40 25\" fill=\"none\" stroke=\"darkred\" stroke-width=\"3.000000\" stroke-linejoin=\"miter\"/>\n",
       "<path d=\"M 25 75 L 40 75\" fill=\"none\" stroke=\"darkred\" stroke-width=\"3.000000\" stroke-linejoin=\"miter\"/>\n",
       "<text x=\"50.000000\" y=\"25.000000\" font-size=\"6.000000\"  text-anchor=\"end\">0</text>\n",
       "<text x=\"50.000000\" y=\"75.000000\" font-size=\"6.000000\"  text-anchor=\"end\">1</text>\n",
       "<text x=\"0.000000\" y=\"25.000000\" font-size=\"6.000000\"  text-anchor=\"start\">0</text>\n",
       "<text x=\"0.000000\" y=\"75.000000\" font-size=\"6.000000\"  text-anchor=\"start\">1</text></svg>"
      ],
      "text/plain": [
       "<IPython.core.display.HTML object>"
      ]
     },
     "metadata": {},
     "output_type": "display_data"
    }
   ],
   "source": [
    "c = pcvl.Circuit(2)\n",
    "pcvl.pdisplay(c)"
   ]
  },
  {
   "cell_type": "markdown",
   "id": "6438e76d",
   "metadata": {},
   "source": [
    "#### 2.1.1. Simulazione di evoluzione di uno stato"
   ]
  },
  {
   "cell_type": "markdown",
   "id": "bdc1e4b8",
   "metadata": {},
   "source": [
    "Costruiamo lo stato di partenza, che avrà:\n",
    "- 0 fotoni nel *branch* 0;\n",
    "- 1 fotone nel *branch* (\"lower left branch\" nel tutorial) 1;\n",
    "\n",
    "uno stato che in totale ha quindi 1 fotone, come si vede dall'ultima riga:"
   ]
  },
  {
   "cell_type": "code",
   "execution_count": 24,
   "id": "a5e77fb8",
   "metadata": {},
   "outputs": [
    {
     "data": {
      "text/plain": [
       "1"
      ]
     },
     "execution_count": 24,
     "metadata": {},
     "output_type": "execute_result"
    }
   ],
   "source": [
    "input_state = pcvl.BasicState(\"|0,1>\")\n",
    "input_state.n"
   ]
  },
  {
   "cell_type": "markdown",
   "id": "99d201ff",
   "metadata": {},
   "source": [
    "Definiamo un simulatore per il circuito:"
   ]
  },
  {
   "cell_type": "code",
   "execution_count": 276,
   "id": "e6119ca1",
   "metadata": {},
   "outputs": [],
   "source": [
    "backend = pcvl.BackendFactory().get_backend()\n",
    "simulator = backend(c)"
   ]
  },
  {
   "cell_type": "markdown",
   "id": "7795649b",
   "metadata": {},
   "source": [
    "Facciamo evolvere il nostro stato secondo il circuito e, con grande sorpresa, vediamo che lo stato finale è lo stesso che avevamo in principio."
   ]
  },
  {
   "cell_type": "code",
   "execution_count": 277,
   "id": "e8562bb3",
   "metadata": {},
   "outputs": [
    {
     "name": "stdout",
     "output_type": "stream",
     "text": [
      "|2,0>\n"
     ]
    }
   ],
   "source": [
    "output_state = simulator.evolve(input_state)\n",
    "print(output_state)"
   ]
  },
  {
   "cell_type": "markdown",
   "id": "3abc42b4",
   "metadata": {},
   "source": [
    "#### 2.1.2. Simulazione di evoluzione di uno stato ed esecuzione di misure"
   ]
  },
  {
   "cell_type": "markdown",
   "id": "36983c0c",
   "metadata": {},
   "source": [
    "Adesso proviamo a fare proprio 10 conteggi in uscita, per vedere cosa viene (il risultato ci sbalordirà):"
   ]
  },
  {
   "cell_type": "code",
   "execution_count": 279,
   "id": "deaf1b65",
   "metadata": {},
   "outputs": [
    {
     "data": {
      "text/html": [
       "<table>\n",
       "<thead>\n",
       "<tr><th>     </th><th style=\"text-align: right;\">  |1,0&gt;</th><th style=\"text-align: right;\">  |0,1&gt;</th></tr>\n",
       "</thead>\n",
       "<tbody>\n",
       "<tr><td>|0,1&gt;</td><td style=\"text-align: right;\">      0</td><td style=\"text-align: right;\">      1</td></tr>\n",
       "</tbody>\n",
       "</table>"
      ],
      "text/plain": [
       "<IPython.core.display.HTML object>"
      ]
     },
     "metadata": {},
     "output_type": "display_data"
    }
   ],
   "source": [
    "ca = pcvl.CircuitAnalyser(simulator,\n",
    "                         [pcvl.BasicState([0,1])], # lista degli stati in input\n",
    "                         \"*\", # tutti i possibili output\n",
    "                         )\n",
    "pcvl.pdisplay(ca)"
   ]
  },
  {
   "cell_type": "markdown",
   "id": "598cde37",
   "metadata": {},
   "source": [
    "che è carino perché è molto semplice, e viene fuori già formattato bene."
   ]
  },
  {
   "cell_type": "markdown",
   "id": "2925d927",
   "metadata": {},
   "source": [
    "Per pigrizia, definiamo le funzioni che simulano l'evoluzione di stati, dato un circuito, e ne restituiscono rispettivamente lo stato finale e la statistica:"
   ]
  },
  {
   "cell_type": "code",
   "execution_count": 323,
   "id": "0b0db38c",
   "metadata": {},
   "outputs": [],
   "source": [
    "def evol_etats_selon_circ(etats, circ):\n",
    "    outs = []\n",
    "    for stato in etats:\n",
    "        backend = pcvl.BackendFactory().get_backend()\n",
    "        simulator = backend(circ)\n",
    "        output_state = simulator.evolve(stato)\n",
    "        print(output_state)\n",
    "        outs.append(output_state)\n",
    "    return outs\n",
    "\n",
    "def stat_etats_selon_circ(etats, circ, outs = \"*\"):\n",
    "    backend = pcvl.BackendFactory().get_backend()\n",
    "    simulator = backend(circ)\n",
    "    ca = pcvl.CircuitAnalyser(simulator,\n",
    "                         etats, # lista degli stati in input\n",
    "                         outs, # tutti i possibili output\n",
    "                         )\n",
    "    pcvl.pdisplay(ca)"
   ]
  },
  {
   "cell_type": "markdown",
   "id": "e07f8b5e",
   "metadata": {},
   "source": [
    "##### Cella per me"
   ]
  },
  {
   "cell_type": "code",
   "execution_count": 71,
   "id": "79dd5eb1",
   "metadata": {},
   "outputs": [
    {
     "name": "stdout",
     "output_type": "stream",
     "text": [
      "{'|0,1>': 10}\n"
     ]
    }
   ],
   "source": [
    "output_counts = {}\n",
    "for _ in range(10):\n",
    "    \n",
    "    # facciamo il conteggio e trasformiamo lo stato in stringa,\n",
    "    # perché viene meglio la visualizzazione del dizionario\n",
    "    outcts = str(simulator.sample(input_state))\n",
    "    \n",
    "    # se è già stato ottenuto, outcts è presente nelle chiavi del dizionario\n",
    "    \n",
    "    # allora basta aumentare il suo conteggio di 1\n",
    "    # altrimenti, aggiungiamo outcts alle chiavi del dizionario\n",
    "    # e mettiamo il suo valore a 1\n",
    "    \n",
    "    # ma lo faccio in una maniera che trovo carina,\n",
    "    # e che siccome non ha IF potrebbe essere più efficiente\n",
    "    # il fatto di aver usato OR fa sì che non crei problemi\n",
    "    # è tuttavia possibile che il typecasting\n",
    "    # (la conversione numero <-> logical)\n",
    "    # complichi la computazione. Chissà\n",
    "    \n",
    "    fact = outcts in output_counts.keys()\n",
    "    output_counts[outcts] = \\\n",
    "        (not fact)*1 or (fact)*(output_counts[outcts]+1)\n",
    "    \n",
    "print(output_counts)"
   ]
  },
  {
   "cell_type": "markdown",
   "id": "19fef7ee",
   "metadata": {},
   "source": [
    "### 2.2. Primo esperimento di interferenza"
   ]
  },
  {
   "cell_type": "markdown",
   "id": "a377d27b",
   "metadata": {},
   "source": [
    "Costruiremo il circuito per blocchi anche se non è necessario, così da poter usare delle idee che saranno utili per la costruzione di circuiti più complessi.\n",
    "\n",
    "Costruiamo un \"blocco computazionale\" formato da un solo beam splitter:\n",
    "- due phasci di fotoni (2 qubit)\n",
    "- due beam splitter che agiscono sul 1⁰ e sul 2⁰ phascio (indicizzati con 0 e 1)\n",
    "\n",
    "e poi lo visualizziamo, in forma di circuito e matrice"
   ]
  },
  {
   "cell_type": "markdown",
   "id": "cd829375",
   "metadata": {},
   "source": [
    "#### 2.2.1. Con `perceval.lib.phys`:"
   ]
  },
  {
   "cell_type": "code",
   "execution_count": 12,
   "id": "51821f42",
   "metadata": {},
   "outputs": [
    {
     "data": {
      "text/html": [
       "$\\left[\\begin{matrix}\\frac{\\sqrt{2}}{2} & \\frac{\\sqrt{2}}{2}\\\\\\frac{\\sqrt{2}}{2} & - \\frac{\\sqrt{2}}{2}\\end{matrix}\\right]$"
      ],
      "text/plain": [
       "<IPython.core.display.HTML object>"
      ]
     },
     "metadata": {},
     "output_type": "display_data"
    },
    {
     "data": {
      "text/html": [
       "<svg width='156.000000' height='150.000000' viewBox='-3.000000 0.000000 153.000000 150.000000'><path d=\"M 10 25 L 25 25\" fill=\"none\" stroke=\"darkred\" stroke-width=\"3.000000\" stroke-linejoin=\"miter\"/>\n",
       "<path d=\"M 10 75 L 25 75\" fill=\"none\" stroke=\"darkred\" stroke-width=\"3.000000\" stroke-linejoin=\"miter\"/>\n",
       "<polyline points=\"25 25 53 25 72 44\" fill=\"transparent\" stroke=\"darkred\" stroke-width=\"3.000000\" stroke-linejoin=\"round\" />\n",
       "<polyline points=\"78 44 97 25 125 25\" fill=\"transparent\" stroke=\"darkred\" stroke-width=\"3.000000\" stroke-linejoin=\"round\" />\n",
       "<polyline points=\"25 75 53 75 72 56\" fill=\"transparent\" stroke=\"darkred\" stroke-width=\"3.000000\" stroke-linejoin=\"round\" />\n",
       "<polyline points=\"78 56 97 75 125 75\" fill=\"transparent\" stroke=\"darkred\" stroke-width=\"3.000000\" stroke-linejoin=\"round\" />\n",
       "<polyline points=\"50 43 100 43 100 57 50 57 50 43\" fill=\"black\" stroke=\"black\" stroke-width=\"1.000000\" stroke_linejoin=\"miter\" />\n",
       "<text x=\"75.000000\" y=\"85.000000\" font-size=\"7.000000\"  text-anchor=\"middle\"></text>\n",
       "<text x=\"75.000000\" y=\"26.000000\" font-size=\"7.000000\"  text-anchor=\"middle\"></text>\n",
       "<polyline points=\"50 43 100 43 100 47 50 47 50 43\" fill=\"lightgray\" stroke=\"black\" stroke-width=\"1.000000\" stroke_linejoin=\"miter\" />\n",
       "<path d=\"M 125 25 L 140 25\" fill=\"none\" stroke=\"darkred\" stroke-width=\"3.000000\" stroke-linejoin=\"miter\"/>\n",
       "<path d=\"M 125 75 L 140 75\" fill=\"none\" stroke=\"darkred\" stroke-width=\"3.000000\" stroke-linejoin=\"miter\"/>\n",
       "<text x=\"150.000000\" y=\"25.000000\" font-size=\"6.000000\"  text-anchor=\"end\">0</text>\n",
       "<text x=\"150.000000\" y=\"75.000000\" font-size=\"6.000000\"  text-anchor=\"end\">1</text>\n",
       "<text x=\"0.000000\" y=\"25.000000\" font-size=\"6.000000\"  text-anchor=\"start\">0</text>\n",
       "<text x=\"0.000000\" y=\"75.000000\" font-size=\"6.000000\"  text-anchor=\"start\">1</text></svg>"
      ],
      "text/plain": [
       "<IPython.core.display.HTML object>"
      ]
     },
     "metadata": {},
     "output_type": "display_data"
    }
   ],
   "source": [
    "#creiamo il blocco con un beam splitter\n",
    "phin = pcvl.Circuit(2)\n",
    "phin.add((0,1), phys.BS())\n",
    "\n",
    "#visualizziamo la sua espressione come matrice\n",
    "pcvl.pdisplay(phin.U)\n",
    "\n",
    "#visualizziamo il circuito \"phys\"\n",
    "pcvl.pdisplay(phin)"
   ]
  },
  {
   "cell_type": "markdown",
   "id": "439fa0ec",
   "metadata": {},
   "source": [
    "Ora i passi già visti nel caso banale:\n",
    "1. definiamo il simulatore;\n",
    "2. generiamo le simulazioni e il conteggio con i seguenti stati di partenza:\n",
    "    - 1 fotone nel ramo superiore\n",
    "    - 1 fotone nel ramo inferiore\n",
    "    - 2 fotone nel ramo superiore\n",
    "    - 1 fotone nel ramo superiore e 1 in quello inferiore\n",
    "    - 2 fotone nel ramo inferiore."
   ]
  },
  {
   "cell_type": "code",
   "execution_count": 230,
   "id": "81896243",
   "metadata": {},
   "outputs": [
    {
     "data": {
      "text/html": [
       "<table>\n",
       "<thead>\n",
       "<tr><th>     </th><th>|1,0&gt;  </th><th>|0,1&gt;  </th><th>|2,0&gt;  </th><th>|1,1&gt;  </th><th>|0,2&gt;  </th></tr>\n",
       "</thead>\n",
       "<tbody>\n",
       "<tr><td>|0,1&gt;</td><td>1/2    </td><td>1/2    </td><td>0      </td><td>0      </td><td>0      </td></tr>\n",
       "<tr><td>|1,0&gt;</td><td>1/2    </td><td>1/2    </td><td>0      </td><td>0      </td><td>0      </td></tr>\n",
       "<tr><td>|2,0&gt;</td><td>0      </td><td>0      </td><td>1/4    </td><td>1/2    </td><td>1/4    </td></tr>\n",
       "<tr><td>|1,1&gt;</td><td>0      </td><td>0      </td><td>1/2    </td><td>0      </td><td>1/2    </td></tr>\n",
       "<tr><td>|0,2&gt;</td><td>0      </td><td>0      </td><td>1/4    </td><td>1/2    </td><td>1/4    </td></tr>\n",
       "</tbody>\n",
       "</table>"
      ],
      "text/plain": [
       "<IPython.core.display.HTML object>"
      ]
     },
     "metadata": {},
     "output_type": "display_data"
    }
   ],
   "source": [
    "stat_etats_selon_circ([pcvl.BasicState([0,1]),pcvl.BasicState([1,0]),\n",
    "                    pcvl.BasicState([2,0]),pcvl.BasicState([1,1]),pcvl.BasicState([0,2])],\n",
    "                    phin,\n",
    "                     )"
   ]
  },
  {
   "cell_type": "markdown",
   "id": "e319f167",
   "metadata": {},
   "source": [
    "#### 2.2.2. Con `perceval.lib.symb`:"
   ]
  },
  {
   "cell_type": "code",
   "execution_count": 231,
   "id": "5f8d9caa",
   "metadata": {},
   "outputs": [
    {
     "data": {
      "text/html": [
       "$\\left[\\begin{matrix}\\frac{\\sqrt{2}}{2} & \\frac{\\sqrt{2} i}{2}\\\\\\frac{\\sqrt{2} i}{2} & \\frac{\\sqrt{2}}{2}\\end{matrix}\\right]$"
      ],
      "text/plain": [
       "<IPython.core.display.HTML object>"
      ]
     },
     "metadata": {},
     "output_type": "display_data"
    },
    {
     "data": {
      "text/html": [
       "<svg width='156.000000' height='150.000000' viewBox='-3.000000 0.000000 153.000000 150.000000'><path d=\"M 10 25 L 25 25\" fill=\"none\" stroke=\"black\" stroke-width=\"1.000000\" stroke-linejoin=\"miter\"/>\n",
       "<path d=\"M 10 75 L 25 75\" fill=\"none\" stroke=\"black\" stroke-width=\"1.000000\" stroke-linejoin=\"miter\"/>\n",
       "<path d=\"M 37.9442 25.0002 C 51.653800000000004 25.0002 51.5923 50.0 65.3019 50.0 M 65.3038 50.0 C 51.59219999999999 50.0 51.6538 74.9998 37.94409999999999 74.9998 M 65.3038 49.99999999999999 L 87.1884 49.99999999999999 M 87.1884 49.99999999999999 C 100.9 49.99999999999999 100.83840000000001 25.000199999999992 114.5481 25.000199999999992 M 87.1884 49.99999999999999 C 100.9 49.99999999999999 100.83840000000001 74.9998 114.5481 74.9998 M 25.0 24.999999999999993 L 38.0 24.999999999999993 M 38.0019 74.9998 L 25.0 74.9998 M 112.6453 74.9998 L 125.0 74.9998 M 112.1944 24.999799999999993 L 125.0 24.999799999999993\" fill=\"none\" stroke=\"black\" stroke-width=\"1.000000\" stroke-linejoin=\"miter\"/>\n",
       "<text x=\"75.000000\" y=\"38.000000\" font-size=\"7.000000\"  text-anchor=\"middle\"></text>\n",
       "<path d=\"M 125 25 L 140 25\" fill=\"none\" stroke=\"black\" stroke-width=\"1.000000\" stroke-linejoin=\"miter\"/>\n",
       "<path d=\"M 125 75 L 140 75\" fill=\"none\" stroke=\"black\" stroke-width=\"1.000000\" stroke-linejoin=\"miter\"/>\n",
       "<text x=\"150.000000\" y=\"25.000000\" font-size=\"6.000000\"  text-anchor=\"end\">0</text>\n",
       "<text x=\"150.000000\" y=\"75.000000\" font-size=\"6.000000\"  text-anchor=\"end\">1</text>\n",
       "<text x=\"0.000000\" y=\"25.000000\" font-size=\"6.000000\"  text-anchor=\"start\">0</text>\n",
       "<text x=\"0.000000\" y=\"75.000000\" font-size=\"6.000000\"  text-anchor=\"start\">1</text></svg>"
      ],
      "text/plain": [
       "<IPython.core.display.HTML object>"
      ]
     },
     "metadata": {},
     "output_type": "display_data"
    }
   ],
   "source": [
    "#creiamo il blocco con un beams splitter\n",
    "syin = pcvl.Circuit(2)\n",
    "syin.add((0,1), symb.BS())\n",
    "\n",
    "#visualizziamo la sua espressione come matrice\n",
    "pcvl.pdisplay(syin.U)\n",
    "\n",
    "#visualizziamo il circuito \"symb\"\n",
    "pcvl.pdisplay(syin)"
   ]
  },
  {
   "cell_type": "code",
   "execution_count": 232,
   "id": "bdd59cc3",
   "metadata": {},
   "outputs": [
    {
     "data": {
      "text/html": [
       "<table>\n",
       "<thead>\n",
       "<tr><th>     </th><th>|1,0&gt;  </th><th>|0,1&gt;  </th><th>|2,0&gt;  </th><th>|1,1&gt;  </th><th>|0,2&gt;  </th></tr>\n",
       "</thead>\n",
       "<tbody>\n",
       "<tr><td>|0,1&gt;</td><td>1/2    </td><td>1/2    </td><td>0      </td><td>0      </td><td>0      </td></tr>\n",
       "<tr><td>|1,0&gt;</td><td>1/2    </td><td>1/2    </td><td>0      </td><td>0      </td><td>0      </td></tr>\n",
       "<tr><td>|2,0&gt;</td><td>0      </td><td>0      </td><td>1/4    </td><td>1/2    </td><td>1/4    </td></tr>\n",
       "<tr><td>|1,1&gt;</td><td>0      </td><td>0      </td><td>1/2    </td><td>0      </td><td>1/2    </td></tr>\n",
       "<tr><td>|0,2&gt;</td><td>0      </td><td>0      </td><td>1/4    </td><td>1/2    </td><td>1/4    </td></tr>\n",
       "</tbody>\n",
       "</table>"
      ],
      "text/plain": [
       "<IPython.core.display.HTML object>"
      ]
     },
     "metadata": {},
     "output_type": "display_data"
    }
   ],
   "source": [
    "stat_etats_selon_circ([pcvl.BasicState([0,1]),pcvl.BasicState([1,0]),\n",
    "                    pcvl.BasicState([2,0]),pcvl.BasicState([1,1]),pcvl.BasicState([0,2])],\n",
    "                    syin,\n",
    "                     )"
   ]
  },
  {
   "cell_type": "markdown",
   "id": "91d6fb76",
   "metadata": {},
   "source": [
    "Nota: le matrici sono diverse. Tutti i termini hanno lo stesso modulo quadro, ma danno lo stesso risultato. Ciò non dovrebbe essere problematico, perché la differenza fra le trasformazioni che descrivono potrebbe essere esprimibile in termini di fasi *overall*.\n",
    "\n",
    "Abbiamo generato un po' di statistica, OK, e quello che vediamo è che nel caso a una particella il beam splitter mescola i modi gli uni con gli altri, mentre nel caso a due particelle emergono delle interferenze fra i diversi stati, dovuti alle fasi che il beam splitter introduce sugli stati."
   ]
  },
  {
   "cell_type": "markdown",
   "id": "d28093c0",
   "metadata": {},
   "source": [
    "### 2.3. Interferenza e distinguibilità con beam splitter simmetrico"
   ]
  },
  {
   "cell_type": "markdown",
   "id": "6548aebd",
   "metadata": {},
   "source": [
    "Nel corso di Advanced Quantum Mechanics abbiamo visto cosa succede se si cerca di far passare coppie di particelle quantistiche indistinguibili o rese distinguibili attraverso un beam splitter. La cosa carina è che il comportamento cambia fra i due casi.\n",
    "\n",
    "Direi che ci sono due modi per rendere distinguibili due particelle identiche che passano nello stesso circuito:\n",
    "- separarle molto spazialmente, mettendole in due diversi canali o, se devono passare nelle stesse zone di spazio (come per es. lo stesso beam splitter) facendoglielo attraversare a tempi \"sufficientemente\" distanti;\n",
    "- aggiungere ulteriori gradi di libertà in cui non vi sia dinamica.\n",
    "\n",
    "In questo caso, scegliamo la seconda opzione e proviamo a rendere distinguibili 2 fotoni che attraversano lo stesso spazio polarizzandoli con polarizzazioni `H` e `V`."
   ]
  },
  {
   "cell_type": "markdown",
   "id": "09ed40ba",
   "metadata": {},
   "source": [
    "#### 2.3.1. Costruzione del circuito"
   ]
  },
  {
   "cell_type": "markdown",
   "id": "d1b88c55",
   "metadata": {},
   "source": [
    "Costruiamo un circuito molto semplice, con un solo beam splitter, a valle del quale facciamo misure."
   ]
  },
  {
   "cell_type": "code",
   "execution_count": 233,
   "id": "e422ab91",
   "metadata": {},
   "outputs": [
    {
     "data": {
      "text/html": [
       "<svg width='156.000000' height='150.000000' viewBox='-3.000000 0.000000 153.000000 150.000000'><path d=\"M 10 25 L 25 25\" fill=\"none\" stroke=\"black\" stroke-width=\"1.000000\" stroke-linejoin=\"miter\"/>\n",
       "<path d=\"M 10 75 L 25 75\" fill=\"none\" stroke=\"black\" stroke-width=\"1.000000\" stroke-linejoin=\"miter\"/>\n",
       "<path d=\"M 37.9442 25.0002 C 51.653800000000004 25.0002 51.5923 50.0 65.3019 50.0 M 65.3038 50.0 C 51.59219999999999 50.0 51.6538 74.9998 37.94409999999999 74.9998 M 65.3038 49.99999999999999 L 87.1884 49.99999999999999 M 87.1884 49.99999999999999 C 100.9 49.99999999999999 100.83840000000001 25.000199999999992 114.5481 25.000199999999992 M 87.1884 49.99999999999999 C 100.9 49.99999999999999 100.83840000000001 74.9998 114.5481 74.9998 M 25.0 24.999999999999993 L 38.0 24.999999999999993 M 38.0019 74.9998 L 25.0 74.9998 M 112.6453 74.9998 L 125.0 74.9998 M 112.1944 24.999799999999993 L 125.0 24.999799999999993\" fill=\"none\" stroke=\"black\" stroke-width=\"1.000000\" stroke-linejoin=\"miter\"/>\n",
       "<text x=\"75.000000\" y=\"38.000000\" font-size=\"7.000000\"  text-anchor=\"middle\"></text>\n",
       "<path d=\"M 125 25 L 140 25\" fill=\"none\" stroke=\"black\" stroke-width=\"1.000000\" stroke-linejoin=\"miter\"/>\n",
       "<path d=\"M 125 75 L 140 75\" fill=\"none\" stroke=\"black\" stroke-width=\"1.000000\" stroke-linejoin=\"miter\"/>\n",
       "<text x=\"150.000000\" y=\"25.000000\" font-size=\"6.000000\"  text-anchor=\"end\">0</text>\n",
       "<text x=\"150.000000\" y=\"75.000000\" font-size=\"6.000000\"  text-anchor=\"end\">1</text>\n",
       "<text x=\"0.000000\" y=\"25.000000\" font-size=\"6.000000\"  text-anchor=\"start\">0</text>\n",
       "<text x=\"0.000000\" y=\"75.000000\" font-size=\"6.000000\"  text-anchor=\"start\">1</text></svg>"
      ],
      "text/plain": [
       "<IPython.core.display.HTML object>"
      ]
     },
     "metadata": {},
     "output_type": "display_data"
    }
   ],
   "source": [
    "inter = pcvl.Circuit(2)\n",
    "inter.add((0,1), symb.BS())\n",
    "pcvl.pdisplay(inter)"
   ]
  },
  {
   "cell_type": "markdown",
   "id": "d507544f",
   "metadata": {},
   "source": [
    "#### 2.3.2 Simulazione dell'esperimento"
   ]
  },
  {
   "cell_type": "markdown",
   "id": "4eda8962",
   "metadata": {},
   "source": [
    "##### 2.3.2.1. Bosoni resi distinguibili"
   ]
  },
  {
   "cell_type": "markdown",
   "id": "2efddbcf",
   "metadata": {},
   "source": [
    "Definiamo uno stato a 2 modi con 2 fotoni, uno per modo, dando ai due polarizzazioni ortogonali, in maniera che siano caratterizzabili mediante questo gdl anche quando sono sovrapposti:"
   ]
  },
  {
   "cell_type": "code",
   "execution_count": 118,
   "id": "130e27c0",
   "metadata": {},
   "outputs": [],
   "source": [
    "distin = pcvl.AnnotatedBasicState(\"|{P:H},{P:V}>\")"
   ]
  },
  {
   "cell_type": "markdown",
   "id": "62fb438e",
   "metadata": {},
   "source": [
    "La questione un po' sottile è che se matematicamente pensiamo di rappresentare la posizione spaziale con uno stato, poi vogliamo anche sapere quale fotone ha quale stato, ma non possiamo dire se nel modo 1 ci sia il 1° o il 2° fotone, quindi ci tocca scrivere lo stato come\n",
    "$$\\left|\\Psi\\right> = \\frac{\\left|\\psi_1^H\\otimes\\psi_2^V\\right> + \\left|\\psi_2^V\\otimes\\psi_1^H\\right>}{\\sqrt 2} = \\hat S\\left|\\psi_1^H\\otimes\\psi_2^V\\right> \\ ,$$\n",
    "a meno di una fase overall, dove definiamo $\\hat S$ come l'operatore che simmetrizza lo stato su cui agisce, così ci semplifichiamo la scrittura più tardi.\n",
    "\n",
    "Esprimiamo la trasformazione imposta dal beam splitter rispetto al gdl spaziale come:\n",
    "$$\\hat U_{BS} = \\frac{\\left|\\psi_1\\middle>\\middle<\\psi_1\\right| + \\left|\\psi_1\\middle>\\middle<\\psi_2\\right| + \\left|\\psi_2\\middle>\\middle<\\psi_1\\right| - \\left|\\psi_2\\middle>\\middle<\\psi_2\\right|}{2}\\ ,$$\n",
    "dove i coefficienti vengono dal fatto di aver preso l'espressione data dalla versione **phys**.\n",
    "\n",
    "A valle del beam splitter, lo stato risulta essere il seguente:\n",
    "$$\\hat U_{BS}\\otimes\\hat U_{BS}\\left|\\Psi\\right> = \\frac{\\hat S\\left|\\psi_1^H\\otimes\\psi_1^V\\right> - \\hat S\\left|\\psi_2^H\\otimes\\psi_2^V\\right> + \\hat S\\left|\\psi_2^H\\otimes\\psi_1^V\\right> - \\hat S\\left|\\psi_1^H\\otimes\\psi_2^V\\right>}{2}$$"
   ]
  },
  {
   "cell_type": "markdown",
   "id": "234654c1",
   "metadata": {},
   "source": [
    "Costruiamo il simulatore e simuliamo l'evoluzione dello stato e otteniamo la statistica del conteggio dei fotoni nei due modi:"
   ]
  },
  {
   "cell_type": "code",
   "execution_count": 234,
   "id": "2e15911c",
   "metadata": {
    "scrolled": true
   },
   "outputs": [
    {
     "data": {
      "text/html": [
       "<table>\n",
       "<thead>\n",
       "<tr><th>             </th><th>|2,0&gt;  </th><th>|1,1&gt;  </th><th>|0,2&gt;  </th></tr>\n",
       "</thead>\n",
       "<tbody>\n",
       "<tr><td>|{P:H},{P:V}&gt;</td><td>1/4    </td><td>1/2    </td><td>1/4    </td></tr>\n",
       "</tbody>\n",
       "</table>"
      ],
      "text/plain": [
       "<IPython.core.display.HTML object>"
      ]
     },
     "metadata": {},
     "output_type": "display_data"
    }
   ],
   "source": [
    "stat_etats_selon_circ([distin],inter)"
   ]
  },
  {
   "cell_type": "markdown",
   "id": "229a03de",
   "metadata": {},
   "source": [
    "Vediamo che in effetti la statistica è quella di due particelle indipendenti che vengono \"smistate\" con 50% di probabilità in un canale e 50% nell'altro, indipendentemente."
   ]
  },
  {
   "cell_type": "markdown",
   "id": "3b921aa8",
   "metadata": {},
   "source": [
    "##### 2.3.2.2. Bosoni indistinguibili"
   ]
  },
  {
   "cell_type": "markdown",
   "id": "aabbb1d8",
   "metadata": {},
   "source": [
    "Definiamo uno stato a 2 modi con 2 fotoni, uno per canale, nei seguenti modi:\n",
    "1. non specificando la polarizzazione.\n",
    "2. dando ai due la stessa polarizzazione;\n",
    "\n",
    "(nell'ordine inverso non so ancora perché ma non mi funziona)\n",
    "\n",
    "Se Perceval non introduce gdl non specificati dall'utente, ci aspettiamo lo stesso risultato."
   ]
  },
  {
   "cell_type": "code",
   "execution_count": 124,
   "id": "d66a2c8e",
   "metadata": {},
   "outputs": [],
   "source": [
    "indist1 = pcvl.AnnotatedBasicState(\"|1,1>\")\n",
    "indist2 = pcvl.AnnotatedBasicState(\"|{P:H},{P:H}>\")"
   ]
  },
  {
   "cell_type": "markdown",
   "id": "3feb6c31",
   "metadata": {},
   "source": [
    "Ri-costruiamo il simulatore (se non lo faccio, per qualche stato crea problemi, boh) e simuliamo l'evoluzione dello stato e otteniamo la statistica del conteggio dei fotoni nei due modi:"
   ]
  },
  {
   "cell_type": "code",
   "execution_count": 235,
   "id": "722f0274",
   "metadata": {
    "scrolled": false
   },
   "outputs": [
    {
     "data": {
      "text/html": [
       "<table>\n",
       "<thead>\n",
       "<tr><th>             </th><th>|2,0&gt;  </th><th style=\"text-align: right;\">  |1,1&gt;</th><th>|0,2&gt;  </th></tr>\n",
       "</thead>\n",
       "<tbody>\n",
       "<tr><td>|1,1&gt;        </td><td>1/2    </td><td style=\"text-align: right;\">      0</td><td>1/2    </td></tr>\n",
       "<tr><td>|{P:H},{P:H}&gt;</td><td>1/2    </td><td style=\"text-align: right;\">      0</td><td>1/2    </td></tr>\n",
       "</tbody>\n",
       "</table>"
      ],
      "text/plain": [
       "<IPython.core.display.HTML object>"
      ]
     },
     "metadata": {},
     "output_type": "display_data"
    }
   ],
   "source": [
    "stat_etats_selon_circ([indist1,indist2],inter)"
   ]
  },
  {
   "cell_type": "markdown",
   "id": "ed5f5350",
   "metadata": {},
   "source": [
    "In questo caso emergono delle interferenze che si collegano al fatto che lo stato in ingresso non ha il gdl delle polarizzazioni. Infatti, ricordiamo che lo stato in uscita *con* le polarizzazioni era\n",
    "\n",
    "$$\\hat U_{BS}\\otimes\\hat U_{BS}\\left|\\Psi\\right> = \\frac{\\hat S\\left|\\psi_1^H\\otimes\\psi_1^V\\right> - \\hat S\\left|\\psi_2^H\\otimes\\psi_2^V\\right> + \\hat S\\left|\\psi_2^H\\otimes\\psi_1^V\\right> - \\hat S\\left|\\psi_1^H\\otimes\\psi_2^V\\right>}{2}\\ .$$\n",
    "\n",
    "Se rimuoviamo l'indice sulla polarizzazione, in due stati si trova degenerazione, pertanto\n",
    "$$\\hat S\\left|\\psi_1^H\\otimes\\psi_1^V\\right> = \\frac{\\left|\\psi_1^H\\otimes\\psi_1^V\\right> + \\left|\\psi_1^V\\otimes\\psi_1^H\\right>}{\\sqrt 2} \\rightarrow$$\n",
    "$$\\rightarrow\\frac{\\left|\\psi_1\\otimes\\psi_1\\right> + \\left|\\psi_1\\otimes\\psi_1\\right>}{\\sqrt 2} = \\sqrt 2 \\left|\\psi_1\\otimes\\psi_1\\right>\\ .$$\n",
    "\n",
    "Il risultato è che quando si esegue l'esperimento senza il gdl aggiuntivo della polarizzazione si trova\n",
    "$$\\hat U_{BS}\\otimes\\hat U_{BS}\\left|\\Psi\\right> = \\frac{\\sqrt2\\left|\\psi_1\\otimes\\psi_1\\right> - \\sqrt2\\left|\\psi_2\\otimes\\psi_2\\right> + \\hat S\\left|\\psi_2\\otimes\\psi_1\\right> - \\hat S\\left|\\psi_1\\otimes\\psi_2\\right>}{2}=\\frac{\\sqrt2\\left|\\psi_1\\otimes\\psi_1\\right> - \\sqrt2\\left|\\psi_2\\otimes\\psi_2\\right>}{2}=\\frac{\\left|\\psi_1\\otimes\\psi_1\\right> - \\left|\\psi_2\\otimes\\psi_2\\right>}{\\sqrt2}\\ .$$"
   ]
  },
  {
   "cell_type": "markdown",
   "id": "2311fd14",
   "metadata": {},
   "source": [
    "###### Considerazioni sulla simmetria e sulla filosofia\n",
    "\n",
    "Se decidessimo che la prima particella è quella che si trova all'inizio nello stato $\\left|\\psi_1\\right>$ e la seconda quella in $\\left|\\psi_2\\right>$ ci troveremmo presto a vedere che comunque \"non sappiamo più quale particella è quale\" e troveremmo in output lo stato\n",
    "$$\\hat U_{BS}\\otimes\\hat U_{BS}\\left|\\psi_1\\otimes\\psi_2\\right> = \\frac{\\left|\\psi_1\\otimes\\psi_1\\right> + \\left|\\psi_2\\otimes\\psi_2\\right> + \\left|\\psi_2\\otimes\\psi_1\\right> - \\left|\\psi_1\\otimes\\psi_2\\right>}{2}\\ ,$$\n",
    "che sarebbe problematico per una coppia di *bosoni* che a questo punto è stata mescolata, perché ha una parte simmetrica e una antisimmetrica. Quindi in un certo senso, l'ammissione che le due particelle hanno per almeno un istante perso la loro identità richiede che non l'abbiano mai avuta e che lo stato \"giusto\" sia sempre stato quello simmetrico $\\hat S\\left|\\psi_1\\otimes\\psi_2\\right>$."
   ]
  },
  {
   "cell_type": "markdown",
   "id": "cb8cf4bb",
   "metadata": {},
   "source": [
    "##### 2.3.2.2. Fermioni indistinguibili"
   ]
  },
  {
   "cell_type": "markdown",
   "id": "ca4ce0f4",
   "metadata": {},
   "source": [
    "Vorrei trovare un modo di simulare la statistica dei fermioni con stati bosonici. L'idea è che magari introducendo fasi e giocando con i gdl si riesce a trovare una cosa che agisca su stati bosonici come se fosse un beam splitter e gli stati fossero in realtà fermionici. Un po' come gli atomi, che possono avere comportamento efficace di fermioni o di bosoni in base a quanti fermioni spin-1/2 li compongono. Fun fact: non ha ancora funzionato."
   ]
  }
 ],
 "metadata": {
  "kernelspec": {
   "display_name": "Python 3 (ipykernel)",
   "language": "python",
   "name": "python3"
  },
  "language_info": {
   "codemirror_mode": {
    "name": "ipython",
    "version": 3
   },
   "file_extension": ".py",
   "mimetype": "text/x-python",
   "name": "python",
   "nbconvert_exporter": "python",
   "pygments_lexer": "ipython3",
   "version": "3.10.6"
  }
 },
 "nbformat": 4,
 "nbformat_minor": 5
}
